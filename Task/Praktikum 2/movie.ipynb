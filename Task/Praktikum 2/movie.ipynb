{
 "cells": [
  {
   "cell_type": "markdown",
   "metadata": {},
   "source": [
    "# Pemrograman 6 - Python for Data Science\n",
    "\n",
    "- Nama            : Arman Dwi Pangestu\n",
    "- NIM             : 1221604\n",
    "- Program Studi   : Teknik Informatika\n",
    "- Semester        : 6 (Genap)\n",
    "- Mata Kuliah     : Pemrograman 6\n",
    "- Dosen           : Mina Ismu Rahayu\n",
    "- Tugas           : Praktikum 2 - `Praktikum Pandas`\n",
    "- Tanggal         : Rabu, 31 Januari 2024"
   ]
  },
  {
   "cell_type": "markdown",
   "metadata": {},
   "source": [
    "# Table of Contents atau Daftar Isi\n",
    "\n",
    "- [Import Library atau Module](#import-library-atau-module)\n",
    "    - [Pandas - Membuat Data Frame Dari Dictionary](#pandas---membuat-data-frame-dari-dictionary)\n",
    "    - [Pandas - Membaca Data Dari CSV](#pandas---membaca-data-dari-csv)\n",
    "        - [Data Pre Processing - Remove Duplicate Data](#data-pre-processing---remove-duplicate-data)\n",
    "        - [Data Pre Processing - Formatting Column Name](#data-pre-processing---formatting-column-name)\n",
    "        - [Data Pre Processing - Check Null Value](#data-pre-processing---check-null-value)\n",
    "        - [Data Pre Processing - Null Value](#data-pre-processing---null-value)\n",
    "        - [Data Pre Processing - Analysis Relation Between Data](#data-pre-processing---analysis-relation-between-data)\n",
    "        - [Data Pre Processing - Calculating the Frequency of all values in a column](#data-pre-processing---calculating-the-frequency-of-all-values-in-a-column)\n",
    "        - [Data Pre Processing - Menghitung Korelasi Antar Data](#data-pre-processing---menghitung-korelasi-antar-data)\n",
    "        - [Data Pre Processing - Subset](#data-pre-processing---subset)\n",
    "        - [Data Pre Processing - Slicing Data](#data-pre-processing---slicing-data)\n",
    "        - [Data Pre Processing - Membuat Function](#data-pre-processing---membuat-function)\n",
    "    - [Matplotlib - Plotting Data](#matplotlib---plotting-data)"
   ]
  },
  {
   "cell_type": "markdown",
   "metadata": {},
   "source": [
    "# Import Library atau Module\n",
    "\n",
    "import library `pandas` dengan alias `pd`"
   ]
  },
  {
   "cell_type": "code",
   "execution_count": 4,
   "metadata": {},
   "outputs": [],
   "source": [
    "import pandas as pd"
   ]
  },
  {
   "cell_type": "markdown",
   "metadata": {},
   "source": [
    "## Pandas - Membuat Data Frame Dari Dictionary"
   ]
  },
  {
   "cell_type": "code",
   "execution_count": 5,
   "metadata": {},
   "outputs": [
    {
     "name": "stdout",
     "output_type": "stream",
     "text": [
      "Food Info: \n",
      "<bound method DataFrame.info of          cookies  cakes\n",
      "Michael        4      1\n",
      "Tim            5      2\n",
      "Mary           6      3\n",
      "Joe            7      4>\n",
      "\n",
      "Food Index Joe: \n",
      "cookies    7\n",
      "cakes      4\n",
      "Name: Joe, dtype: int64\n"
     ]
    }
   ],
   "source": [
    "data = {\n",
    "    'cookies': [4, 5, 6, 7],\n",
    "    'cakes': [1, 2, 3, 4]\n",
    "}\n",
    "\n",
    "food = pd.DataFrame(data, index=['Michael', 'Tim', 'Mary', 'Joe'])\n",
    "print(f\"Food Info: \\n{food.info}\\n\")\n",
    "print(f\"Food Index Joe: \\n{food.loc['Joe']}\")"
   ]
  },
  {
   "cell_type": "markdown",
   "metadata": {},
   "source": [
    "## Pandas - Membaca Data Dari CSV"
   ]
  },
  {
   "cell_type": "code",
   "execution_count": 6,
   "metadata": {},
   "outputs": [
    {
     "name": "stdout",
     "output_type": "stream",
     "text": [
      "=========================\n",
      "| Movie Data Frame Info |\n",
      "=========================\n",
      "\n",
      "<class 'pandas.core.frame.DataFrame'>\n",
      "RangeIndex: 1000 entries, 0 to 999\n",
      "Data columns (total 12 columns):\n",
      " #   Column              Non-Null Count  Dtype  \n",
      "---  ------              --------------  -----  \n",
      " 0   Rank                1000 non-null   int64  \n",
      " 1   Title               1000 non-null   object \n",
      " 2   Genre               1000 non-null   object \n",
      " 3   Description         1000 non-null   object \n",
      " 4   Director            1000 non-null   object \n",
      " 5   Actors              1000 non-null   object \n",
      " 6   Year                1000 non-null   int64  \n",
      " 7   Runtime (Minutes)   1000 non-null   int64  \n",
      " 8   Rating              1000 non-null   float64\n",
      " 9   Votes               1000 non-null   int64  \n",
      " 10  Revenue (Millions)  872 non-null    float64\n",
      " 11  Metascore           936 non-null    float64\n",
      "dtypes: float64(3), int64(4), object(5)\n",
      "memory usage: 93.9+ KB\n",
      "None\n",
      "\n",
      "\n",
      "==========================\n",
      "| Movie Data Frame Shape |\n",
      "==========================\n",
      "\n",
      "(1000, 12)\n"
     ]
    }
   ],
   "source": [
    "movies_df = pd.read_csv(\"../../Resource/Pertemuan3/IMDB-Movie-Data.csv\")\n",
    "print(\"=========================\")\n",
    "print(\"| Movie Data Frame Info |\")\n",
    "print(\"=========================\\n\")\n",
    "print(movies_df.info())\n",
    "\n",
    "print(\"\\n\")\n",
    "\n",
    "print(\"==========================\")\n",
    "print(\"| Movie Data Frame Shape |\")\n",
    "print(\"==========================\\n\")\n",
    "print(movies_df.shape)"
   ]
  },
  {
   "cell_type": "markdown",
   "metadata": {},
   "source": [
    "### Data Pre Processing - Remove Duplicate Data"
   ]
  },
  {
   "cell_type": "code",
   "execution_count": 7,
   "metadata": {},
   "outputs": [
    {
     "name": "stdout",
     "output_type": "stream",
     "text": [
      "Shape original: (1000, 12)\n",
      "Shape setelah append (duplicate data): (2000, 12)\n",
      "Shape setelah drop_duplicates: (1000, 12)\n"
     ]
    }
   ],
   "source": [
    "# Duplicate Data (Old Version Pandas Use method or attribute `append`)\n",
    "'''\n",
    "temp_df = movies_df.append(movies_df)\n",
    "print(temp_df.shape)\n",
    "\n",
    "# Data Pre Processing - Remove Duplicate Data\n",
    "temp_df.drop_duplicates()\n",
    "'''\n",
    "\n",
    "# Duplicate Data (New Version Pandas Not Work with method or attribute `append`, use `concat`)\n",
    "temp_df = pd.concat([movies_df, movies_df], ignore_index=True)\n",
    "print(\"Shape original:\", movies_df.shape)\n",
    "print(\"Shape setelah append (duplicate data):\", temp_df.shape)\n",
    "\n",
    "# Data Pre Processing\n",
    "temp_df = temp_df.drop_duplicates()\n",
    "print(\"Shape setelah drop_duplicates:\", temp_df.shape)"
   ]
  },
  {
   "cell_type": "markdown",
   "metadata": {},
   "source": [
    "### Data Pre Processing - Formatting Column Name"
   ]
  },
  {
   "cell_type": "code",
   "execution_count": 8,
   "metadata": {},
   "outputs": [
    {
     "name": "stdout",
     "output_type": "stream",
     "text": [
      "Index(['Rank', 'Title', 'Genre', 'Description', 'Director', 'Actors', 'Year',\n",
      "       'Runtime (Minutes)', 'Rating', 'Votes', 'Revenue (Millions)',\n",
      "       'Metascore'],\n",
      "      dtype='object')\n"
     ]
    }
   ],
   "source": [
    "# Get List Column Name\n",
    "print(movies_df.columns)"
   ]
  },
  {
   "cell_type": "code",
   "execution_count": 9,
   "metadata": {},
   "outputs": [
    {
     "name": "stdout",
     "output_type": "stream",
     "text": [
      "Index(['Rank', 'Title', 'Genre', 'Description', 'Director', 'Actors', 'Year',\n",
      "       'Runtime', 'Rating', 'Votes', 'Revenue_Millions', 'Metascore'],\n",
      "      dtype='object')\n",
      "<bound method DataFrame.info of      Rank                    Title                     Genre  \\\n",
      "0       1  Guardians of the Galaxy   Action,Adventure,Sci-Fi   \n",
      "1       2               Prometheus  Adventure,Mystery,Sci-Fi   \n",
      "2       3                    Split           Horror,Thriller   \n",
      "3       4                     Sing   Animation,Comedy,Family   \n",
      "4       5            Suicide Squad  Action,Adventure,Fantasy   \n",
      "..    ...                      ...                       ...   \n",
      "995   996     Secret in Their Eyes       Crime,Drama,Mystery   \n",
      "996   997          Hostel: Part II                    Horror   \n",
      "997   998   Step Up 2: The Streets       Drama,Music,Romance   \n",
      "998   999             Search Party          Adventure,Comedy   \n",
      "999  1000               Nine Lives     Comedy,Family,Fantasy   \n",
      "\n",
      "                                           Description              Director  \\\n",
      "0    A group of intergalactic criminals are forced ...            James Gunn   \n",
      "1    Following clues to the origin of mankind, a te...          Ridley Scott   \n",
      "2    Three girls are kidnapped by a man with a diag...    M. Night Shyamalan   \n",
      "3    In a city of humanoid animals, a hustling thea...  Christophe Lourdelet   \n",
      "4    A secret government agency recruits some of th...            David Ayer   \n",
      "..                                                 ...                   ...   \n",
      "995  A tight-knit team of rising investigators, alo...             Billy Ray   \n",
      "996  Three American college students studying abroa...              Eli Roth   \n",
      "997  Romantic sparks occur between two dance studen...            Jon M. Chu   \n",
      "998  A pair of friends embark on a mission to reuni...        Scot Armstrong   \n",
      "999  A stuffy businessman finds himself trapped ins...      Barry Sonnenfeld   \n",
      "\n",
      "                                                Actors  Year  Runtime  Rating  \\\n",
      "0    Chris Pratt, Vin Diesel, Bradley Cooper, Zoe S...  2014      121     8.1   \n",
      "1    Noomi Rapace, Logan Marshall-Green, Michael Fa...  2012      124     7.0   \n",
      "2    James McAvoy, Anya Taylor-Joy, Haley Lu Richar...  2016      117     7.3   \n",
      "3    Matthew McConaughey,Reese Witherspoon, Seth Ma...  2016      108     7.2   \n",
      "4    Will Smith, Jared Leto, Margot Robbie, Viola D...  2016      123     6.2   \n",
      "..                                                 ...   ...      ...     ...   \n",
      "995  Chiwetel Ejiofor, Nicole Kidman, Julia Roberts...  2015      111     6.2   \n",
      "996  Lauren German, Heather Matarazzo, Bijou Philli...  2007       94     5.5   \n",
      "997  Robert Hoffman, Briana Evigan, Cassie Ventura,...  2008       98     6.2   \n",
      "998  Adam Pally, T.J. Miller, Thomas Middleditch,Sh...  2014       93     5.6   \n",
      "999  Kevin Spacey, Jennifer Garner, Robbie Amell,Ch...  2016       87     5.3   \n",
      "\n",
      "      Votes  Revenue_Millions  Metascore  \n",
      "0    757074            333.13       76.0  \n",
      "1    485820            126.46       65.0  \n",
      "2    157606            138.12       62.0  \n",
      "3     60545            270.32       59.0  \n",
      "4    393727            325.02       40.0  \n",
      "..      ...               ...        ...  \n",
      "995   27585               NaN       45.0  \n",
      "996   73152             17.54       46.0  \n",
      "997   70699             58.01       50.0  \n",
      "998    4881               NaN       22.0  \n",
      "999   12435             19.64       11.0  \n",
      "\n",
      "[1000 rows x 12 columns]>\n"
     ]
    }
   ],
   "source": [
    "# Formating Column Name To Make Easy Query\n",
    "movies_df.rename(columns={\n",
    "    'Runtime (Minutes)': 'Runtime',\n",
    "    'Revenue (Millions)': 'Revenue_Millions'\n",
    "}, inplace=True)\n",
    "\n",
    "print(movies_df.columns)\n",
    "print(movies_df.info)"
   ]
  },
  {
   "cell_type": "code",
   "execution_count": 10,
   "metadata": {},
   "outputs": [
    {
     "name": "stdout",
     "output_type": "stream",
     "text": [
      "<class 'pandas.core.frame.DataFrame'>\n",
      "RangeIndex: 1000 entries, 0 to 999\n",
      "Data columns (total 12 columns):\n",
      " #   Column            Non-Null Count  Dtype  \n",
      "---  ------            --------------  -----  \n",
      " 0   rank              1000 non-null   int64  \n",
      " 1   title             1000 non-null   object \n",
      " 2   genre             1000 non-null   object \n",
      " 3   description       1000 non-null   object \n",
      " 4   director          1000 non-null   object \n",
      " 5   actors            1000 non-null   object \n",
      " 6   year              1000 non-null   int64  \n",
      " 7   runtime           1000 non-null   int64  \n",
      " 8   rating            1000 non-null   float64\n",
      " 9   votes             1000 non-null   int64  \n",
      " 10  revenue_millions  872 non-null    float64\n",
      " 11  metascore         936 non-null    float64\n",
      "dtypes: float64(3), int64(4), object(5)\n",
      "memory usage: 93.9+ KB\n",
      "None\n"
     ]
    }
   ],
   "source": [
    "# Formatting Column Name To Lower Case\n",
    "movies_df.columns = [col.lower() for col in movies_df]\n",
    "print(movies_df.info())"
   ]
  },
  {
   "cell_type": "markdown",
   "metadata": {},
   "source": [
    "### Data Pre Processing - Check Null Value"
   ]
  },
  {
   "cell_type": "code",
   "execution_count": 11,
   "metadata": {},
   "outputs": [
    {
     "name": "stdout",
     "output_type": "stream",
     "text": [
      "      rank  title  genre  description  director  actors   year  runtime  \\\n",
      "0    False  False  False        False     False   False  False    False   \n",
      "1    False  False  False        False     False   False  False    False   \n",
      "2    False  False  False        False     False   False  False    False   \n",
      "3    False  False  False        False     False   False  False    False   \n",
      "4    False  False  False        False     False   False  False    False   \n",
      "..     ...    ...    ...          ...       ...     ...    ...      ...   \n",
      "995  False  False  False        False     False   False  False    False   \n",
      "996  False  False  False        False     False   False  False    False   \n",
      "997  False  False  False        False     False   False  False    False   \n",
      "998  False  False  False        False     False   False  False    False   \n",
      "999  False  False  False        False     False   False  False    False   \n",
      "\n",
      "     rating  votes  revenue_millions  metascore  \n",
      "0     False  False             False      False  \n",
      "1     False  False             False      False  \n",
      "2     False  False             False      False  \n",
      "3     False  False             False      False  \n",
      "4     False  False             False      False  \n",
      "..      ...    ...               ...        ...  \n",
      "995   False  False              True      False  \n",
      "996   False  False             False      False  \n",
      "997   False  False             False      False  \n",
      "998   False  False              True      False  \n",
      "999   False  False             False      False  \n",
      "\n",
      "[1000 rows x 12 columns]\n",
      "<class 'pandas.core.frame.DataFrame'>\n",
      "RangeIndex: 1000 entries, 0 to 999\n",
      "Data columns (total 12 columns):\n",
      " #   Column            Non-Null Count  Dtype  \n",
      "---  ------            --------------  -----  \n",
      " 0   rank              1000 non-null   int64  \n",
      " 1   title             1000 non-null   object \n",
      " 2   genre             1000 non-null   object \n",
      " 3   description       1000 non-null   object \n",
      " 4   director          1000 non-null   object \n",
      " 5   actors            1000 non-null   object \n",
      " 6   year              1000 non-null   int64  \n",
      " 7   runtime           1000 non-null   int64  \n",
      " 8   rating            1000 non-null   float64\n",
      " 9   votes             1000 non-null   int64  \n",
      " 10  revenue_millions  872 non-null    float64\n",
      " 11  metascore         936 non-null    float64\n",
      "dtypes: float64(3), int64(4), object(5)\n",
      "memory usage: 93.9+ KB\n",
      "None\n",
      "rank                  0\n",
      "title                 0\n",
      "genre                 0\n",
      "description           0\n",
      "director              0\n",
      "actors                0\n",
      "year                  0\n",
      "runtime               0\n",
      "rating                0\n",
      "votes                 0\n",
      "revenue_millions    128\n",
      "metascore            64\n",
      "dtype: int64\n"
     ]
    }
   ],
   "source": [
    "# Check Null Value, if the record have null, it will return `True`, if record not null, it will return `False`\n",
    "print(movies_df.isnull())\n",
    "\n",
    "# Check Data Frame Information, this method will return information about the data frame, such as:\n",
    "# - Index\n",
    "# - Column\n",
    "# - Non-Null Count\n",
    "# - Dtype\n",
    "#\n",
    "# On Non-Null Count we can see total data filled, so if the total record is 1000, every column must be have 1000 record\n",
    "# if not 1000, the column have null value\n",
    "print(movies_df.info())\n",
    "\n",
    "# We can count how much every column have a null value using method `isnull` with chaining method `sum`\n",
    "print(movies_df.isnull().sum())"
   ]
  },
  {
   "cell_type": "markdown",
   "metadata": {},
   "source": [
    "### Data Pre Processing - Null Value\n",
    "\n",
    "Setelah kita mengetahui terdapat beberapa data yang null pada kolom `revenue_millions` dan `metascore`, selanjutnya kita perlu buat agar data null tersebut hilang agar konsistensi data nya terjaga. Nah, untuk melakukan hal tersebut terdapat beberapa cara diantaranya adalah:\n",
    "\n",
    "1. Kita bisa hilangkan satu baris datanya walaupun data yang null ada di kolom `revenue_millions` atau `metascore`\n",
    "\n",
    "Agar lebih terbayang cara kesatu ini kalian bisa lihat tabel berikut ini\n",
    "\n",
    "| Index | Rank | Title | Genre | Description | Director | Actors | Year | Runtime | Rating | Votes | Revenue_Millions | Metascore |\n",
    "| -- | -- | -- | -- | -- | -- | -- | -- | -- | -- | -- | -- | -- |\n",
    "| ... | ... | ... | ... | ... | ... | ... | ... | ... | ... | ... | ... | ... |\n",
    "| 500 | 1 | Guardians... | Action... | A group... | James Gunn | Chris Prat... | 2014 | 121 | 8.1 | 757074 | Null | 76.0 |\n",
    "| ... | ... | ... | ... | ... | ... | ... | ... | ... | ... | ... | ... | ... |\n",
    "\n",
    "Nah maka yang dihapus itu satu baris index `500` atau keseluruhan data di index ke `500`, sehingga jika total keseluruhan data terdapat 1000 baris dan pada salah satu kolom memiliki nilai `Null` di index tertentu maka akan dihapus sehingga total data nya sekarang bukan lagi 1000 melainkan `999`\n",
    "\n",
    "2. Mengisikan Data Null\n",
    "\n",
    "Nah jika kalian tidak ingin mengurangi jumlah data nya seperti cara pertama, kita bisa gunakan cara kedua ini yaitu dengan cara mengisikan data null tersebut agar konsisten. Pengisian data null ini usahakan sesuai konteks nya, misalkan data yang null terdapat pada kolom `revenue_millions` maka kita bisa isikan data null tersebut dengan nilai mean atau nilai rata-rata dari keseluruhan `revenue_millions` nya\n",
    "\n",
    "Pilihan dari kedua cara tersebut bergantung pada konteks data dan analisis yang akan kalian lakukan. Jika menghapus baris tidak akan mempengaruhi analisis kalian secara signifikan dan data yang hilang tidak banyak, maka pilihan pertama mungkin lebih cocok. Namun, jika data yang hilang cukup signifikan dan tidak dapat dihapus, maka pengisian data null mungkin lebih baik untuk mempertahankan jumlah total data.\n",
    "\n",
    "Perlu dicatat bahwa dalam kasus pengisian data null, penting untuk memilih nilai pengganti yang sesuai agar tidak mempengaruhi hasil analisis secara berlebihan. Menggunakan nilai rata-rata atau median dari kolom adalah pilihan umum untuk mengisikan data null."
   ]
  },
  {
   "cell_type": "code",
   "execution_count": 12,
   "metadata": {},
   "outputs": [
    {
     "name": "stdout",
     "output_type": "stream",
     "text": [
      "rank                 0\n",
      "title                0\n",
      "genre                0\n",
      "description          0\n",
      "director             0\n",
      "actors               0\n",
      "year                 0\n",
      "runtime              0\n",
      "rating               0\n",
      "votes                0\n",
      "revenue_millions     0\n",
      "metascore           64\n",
      "dtype: int64\n",
      "<class 'pandas.core.frame.DataFrame'>\n",
      "RangeIndex: 1000 entries, 0 to 999\n",
      "Data columns (total 12 columns):\n",
      " #   Column            Non-Null Count  Dtype  \n",
      "---  ------            --------------  -----  \n",
      " 0   rank              1000 non-null   int64  \n",
      " 1   title             1000 non-null   object \n",
      " 2   genre             1000 non-null   object \n",
      " 3   description       1000 non-null   object \n",
      " 4   director          1000 non-null   object \n",
      " 5   actors            1000 non-null   object \n",
      " 6   year              1000 non-null   int64  \n",
      " 7   runtime           1000 non-null   int64  \n",
      " 8   rating            1000 non-null   float64\n",
      " 9   votes             1000 non-null   int64  \n",
      " 10  revenue_millions  1000 non-null   float64\n",
      " 11  metascore         936 non-null    float64\n",
      "dtypes: float64(3), int64(4), object(5)\n",
      "memory usage: 93.9+ KB\n",
      "None\n",
      "rank                0\n",
      "title               0\n",
      "genre               0\n",
      "description         0\n",
      "director            0\n",
      "actors              0\n",
      "year                0\n",
      "runtime             0\n",
      "rating              0\n",
      "votes               0\n",
      "revenue_millions    0\n",
      "metascore           0\n",
      "dtype: int64\n",
      "<class 'pandas.core.frame.DataFrame'>\n",
      "RangeIndex: 1000 entries, 0 to 999\n",
      "Data columns (total 12 columns):\n",
      " #   Column            Non-Null Count  Dtype  \n",
      "---  ------            --------------  -----  \n",
      " 0   rank              1000 non-null   int64  \n",
      " 1   title             1000 non-null   object \n",
      " 2   genre             1000 non-null   object \n",
      " 3   description       1000 non-null   object \n",
      " 4   director          1000 non-null   object \n",
      " 5   actors            1000 non-null   object \n",
      " 6   year              1000 non-null   int64  \n",
      " 7   runtime           1000 non-null   int64  \n",
      " 8   rating            1000 non-null   float64\n",
      " 9   votes             1000 non-null   int64  \n",
      " 10  revenue_millions  1000 non-null   float64\n",
      " 11  metascore         1000 non-null   float64\n",
      "dtypes: float64(3), int64(4), object(5)\n",
      "memory usage: 93.9+ KB\n",
      "None\n"
     ]
    }
   ],
   "source": [
    "# Removing One Row Record if they have null value\n",
    "#print(movies_df.dropna())\n",
    "#print(movies_df.dropna(axis=0, inplace=True))\n",
    "#print(movies_df.info())\n",
    "\n",
    "# Fill the data null for column `revenu_millions`\n",
    "revenue = movies_df['revenue_millions'] # Get the column `revenue_millions`\n",
    "revenue_mean = revenue.mean() # Get the mean data from `revenue_miilions`\n",
    "revenue.fillna(revenue_mean, inplace=True) # Fill the nulls data using `fillna()` method\n",
    "print(movies_df.isnull().sum()) # Check null value from data frame\n",
    "print(movies_df.info())\n",
    "\n",
    "# Fill the data null for column `metascore`\n",
    "score = movies_df['metascore'] # Get the column `metascore`\n",
    "score_mean = score.mean() # Get the mean data from `metascore`\n",
    "score.fillna(score_mean, inplace=True) # Fill the nulls data using `fillna()` method\n",
    "print(movies_df.isnull().sum()) # Check null value from data frame\n",
    "print(movies_df.info())"
   ]
  },
  {
   "cell_type": "markdown",
   "metadata": {},
   "source": [
    "### Data Pre Processing - Analysis Relation Between Data\n",
    "\n",
    "Kita dapat menganalisis hubungan antar data menggunakan method `describe`, misalkan kita ingin menganalisis data dari kolom `actors`, maka hasilnya adalah ringkasan dari data kolom `actors` tersebut seperti:\n",
    "\n",
    "- `Count` (Jumlah data dari kolom `actors`)\n",
    "- `Unique` (Jumlah data unique atau nama actors nya berbeda-beda setiap baris nya)\n",
    "- `Top` (Jumlah nama actor yang sering muncul atau frekuensi muncul nya lebih banyak)\n",
    "- `Freq` (Berapa kali jumlah actor yang sama muncul)"
   ]
  },
  {
   "cell_type": "code",
   "execution_count": 13,
   "metadata": {},
   "outputs": [
    {
     "name": "stdout",
     "output_type": "stream",
     "text": [
      "count                                                  1000\n",
      "unique                                                  996\n",
      "top       Jennifer Lawrence, Josh Hutcherson, Liam Hemsw...\n",
      "freq                                                      2\n",
      "Name: actors, dtype: object\n"
     ]
    }
   ],
   "source": [
    "print(movies_df['actors'].describe())"
   ]
  },
  {
   "cell_type": "markdown",
   "metadata": {},
   "source": [
    "Atau kita coba analisis kolom `genre`"
   ]
  },
  {
   "cell_type": "code",
   "execution_count": 14,
   "metadata": {},
   "outputs": [
    {
     "name": "stdout",
     "output_type": "stream",
     "text": [
      "count                        1000\n",
      "unique                        207\n",
      "top       Action,Adventure,Sci-Fi\n",
      "freq                           50\n",
      "Name: genre, dtype: object\n"
     ]
    }
   ],
   "source": [
    "print(movies_df['genre'].describe())"
   ]
  },
  {
   "cell_type": "markdown",
   "metadata": {},
   "source": [
    "Nah 2 contoh diatas kan data kolom yang object, kita coba data kolom yang numerical seperti float di kolom `rating`. Maka hasil analisis dari method `describe` nya juga akan berbeda sehingga tergantung data yang akan di analisis nya. Berikut jika kita coba analisis kolom `rating`\n",
    "\n",
    "- `count` (jumlah data dari kolom `rating`)\n",
    "- `mean` (nilai tengah-tengah dari `rating`)\n",
    "- `std` (nilai standard deviation dari `rating`)\n",
    "- `min` (nilai minimal dari `rating`)\n",
    "- `25%` (nilai 25% dari `rating`)\n",
    "- `50%` (nilai 50% dari `rating`)\n",
    "- `75%` (nilai 75% dari `rating`)\n",
    "- `max` (nilai maximal dari `rating`)"
   ]
  },
  {
   "cell_type": "code",
   "execution_count": 15,
   "metadata": {},
   "outputs": [
    {
     "name": "stdout",
     "output_type": "stream",
     "text": [
      "count    1000.000000\n",
      "mean        6.723200\n",
      "std         0.945429\n",
      "min         1.900000\n",
      "25%         6.200000\n",
      "50%         6.800000\n",
      "75%         7.400000\n",
      "max         9.000000\n",
      "Name: rating, dtype: float64\n"
     ]
    }
   ],
   "source": [
    "print(movies_df['rating'].describe())"
   ]
  },
  {
   "cell_type": "markdown",
   "metadata": {},
   "source": [
    "### Data Pre Processing - Calculating the Frequency of all values in a column"
   ]
  },
  {
   "cell_type": "code",
   "execution_count": 16,
   "metadata": {},
   "outputs": [
    {
     "name": "stdout",
     "output_type": "stream",
     "text": [
      "genre\n",
      "Action,Adventure,Sci-Fi    50\n",
      "Drama                      48\n",
      "Comedy,Drama,Romance       35\n",
      "Name: count, dtype: int64\n"
     ]
    }
   ],
   "source": [
    "print(movies_df['genre'].value_counts().head(3))"
   ]
  },
  {
   "cell_type": "markdown",
   "metadata": {},
   "source": [
    "### Data Pre Processing - Menghitung Korelasi Antar Data"
   ]
  },
  {
   "cell_type": "code",
   "execution_count": 17,
   "metadata": {},
   "outputs": [
    {
     "name": "stdout",
     "output_type": "stream",
     "text": [
      "                      rank      year   runtime    rating     votes  \\\n",
      "rank              1.000000 -0.261605 -0.221739 -0.219555 -0.283876   \n",
      "year             -0.261605  1.000000 -0.164900 -0.211219 -0.411904   \n",
      "runtime          -0.221739 -0.164900  1.000000  0.392214  0.407062   \n",
      "rating           -0.219555 -0.211219  0.392214  1.000000  0.511537   \n",
      "votes            -0.283876 -0.411904  0.407062  0.511537  1.000000   \n",
      "revenue_millions -0.252996 -0.117562  0.247834  0.189527  0.607941   \n",
      "metascore        -0.185159 -0.076077  0.202239  0.604723  0.318116   \n",
      "\n",
      "                  revenue_millions  metascore  \n",
      "rank                     -0.252996  -0.185159  \n",
      "year                     -0.117562  -0.076077  \n",
      "runtime                   0.247834   0.202239  \n",
      "rating                    0.189527   0.604723  \n",
      "votes                     0.607941   0.318116  \n",
      "revenue_millions          1.000000   0.132304  \n",
      "metascore                 0.132304   1.000000  \n"
     ]
    }
   ],
   "source": [
    "numeric_columns = movies_df.select_dtypes(include=['number'])\n",
    "print(numeric_columns.corr(method='pearson', min_periods=1))"
   ]
  },
  {
   "cell_type": "markdown",
   "metadata": {},
   "source": [
    "### Data Pre Processing - Subset"
   ]
  },
  {
   "cell_type": "code",
   "execution_count": 18,
   "metadata": {},
   "outputs": [
    {
     "name": "stdout",
     "output_type": "stream",
     "text": [
      "<class 'pandas.core.frame.DataFrame'>\n",
      "                        genre  rating\n",
      "0     Action,Adventure,Sci-Fi     8.1\n",
      "1    Adventure,Mystery,Sci-Fi     7.0\n",
      "2             Horror,Thriller     7.3\n",
      "3     Animation,Comedy,Family     7.2\n",
      "4    Action,Adventure,Fantasy     6.2\n",
      "5    Action,Adventure,Fantasy     6.1\n",
      "6          Comedy,Drama,Music     8.3\n",
      "7                      Comedy     6.4\n",
      "8  Action,Adventure,Biography     7.1\n",
      "9     Adventure,Drama,Romance     7.0\n",
      "<class 'pandas.core.frame.DataFrame'>\n",
      "RangeIndex: 1000 entries, 0 to 999\n",
      "Data columns (total 12 columns):\n",
      " #   Column            Non-Null Count  Dtype  \n",
      "---  ------            --------------  -----  \n",
      " 0   rank              1000 non-null   int64  \n",
      " 1   title             1000 non-null   object \n",
      " 2   genre             1000 non-null   object \n",
      " 3   description       1000 non-null   object \n",
      " 4   director          1000 non-null   object \n",
      " 5   actors            1000 non-null   object \n",
      " 6   year              1000 non-null   int64  \n",
      " 7   runtime           1000 non-null   int64  \n",
      " 8   rating            1000 non-null   float64\n",
      " 9   votes             1000 non-null   int64  \n",
      " 10  revenue_millions  1000 non-null   float64\n",
      " 11  metascore         1000 non-null   float64\n",
      "dtypes: float64(3), int64(4), object(5)\n",
      "memory usage: 93.9+ KB\n",
      "None\n",
      "rank                                                                7\n",
      "title                                                      La La Land\n",
      "genre                                              Comedy,Drama,Music\n",
      "description         A jazz pianist falls for an aspiring actress i...\n",
      "director                                              Damien Chazelle\n",
      "actors              Ryan Gosling, Emma Stone, Rosemarie DeWitt, J....\n",
      "year                                                             2016\n",
      "runtime                                                           128\n",
      "rating                                                            8.3\n",
      "votes                                                          258682\n",
      "revenue_millions                                               151.06\n",
      "metascore                                                        93.0\n",
      "Name: 6, dtype: object\n"
     ]
    }
   ],
   "source": [
    "genre = movies_df[['genre']]\n",
    "print(type(genre))\n",
    "\n",
    "subset = movies_df[['genre', 'rating']]\n",
    "print(subset.head(10))\n",
    "\n",
    "print(movies_df.info())\n",
    "print(movies_df.iloc[6])"
   ]
  },
  {
   "cell_type": "markdown",
   "metadata": {},
   "source": [
    "### Data Pre Processing - Slicing Data"
   ]
  },
  {
   "cell_type": "code",
   "execution_count": 19,
   "metadata": {},
   "outputs": [
    {
     "name": "stdout",
     "output_type": "stream",
     "text": [
      "   rank       title                     genre  \\\n",
      "1     2  Prometheus  Adventure,Mystery,Sci-Fi   \n",
      "2     3       Split           Horror,Thriller   \n",
      "3     4        Sing   Animation,Comedy,Family   \n",
      "\n",
      "                                         description              director  \\\n",
      "1  Following clues to the origin of mankind, a te...          Ridley Scott   \n",
      "2  Three girls are kidnapped by a man with a diag...    M. Night Shyamalan   \n",
      "3  In a city of humanoid animals, a hustling thea...  Christophe Lourdelet   \n",
      "\n",
      "                                              actors  year  runtime  rating  \\\n",
      "1  Noomi Rapace, Logan Marshall-Green, Michael Fa...  2012      124     7.0   \n",
      "2  James McAvoy, Anya Taylor-Joy, Haley Lu Richar...  2016      117     7.3   \n",
      "3  Matthew McConaughey,Reese Witherspoon, Seth Ma...  2016      108     7.2   \n",
      "\n",
      "    votes  revenue_millions  metascore  \n",
      "1  485820            126.46       65.0  \n",
      "2  157606            138.12       62.0  \n",
      "3   60545            270.32       59.0  \n",
      "\n",
      "Condition:\n",
      "\n",
      "1     True\n",
      "2    False\n",
      "3    False\n",
      "Name: director, dtype: bool\n",
      "\n",
      "Or Condition:\n",
      "\n",
      "     rank                   title                     genre  \\\n",
      "1       2              Prometheus  Adventure,Mystery,Sci-Fi   \n",
      "102   103             The Martian    Adventure,Drama,Sci-Fi   \n",
      "387   388              Robin Hood    Action,Adventure,Drama   \n",
      "470   471       American Gangster     Biography,Crime,Drama   \n",
      "516   517  Exodus: Gods and Kings    Action,Adventure,Drama   \n",
      "521   522           The Counselor      Crime,Drama,Thriller   \n",
      "530   531             A Good Year      Comedy,Drama,Romance   \n",
      "737   738            Body of Lies      Action,Drama,Romance   \n",
      "\n",
      "                                           description      director  \\\n",
      "1    Following clues to the origin of mankind, a te...  Ridley Scott   \n",
      "102  An astronaut becomes stranded on Mars after hi...  Ridley Scott   \n",
      "387  In 12th century England, Robin and his band of...  Ridley Scott   \n",
      "470  In 1970s America, a detective works to bring d...  Ridley Scott   \n",
      "516  The defiant leader Moses rises up against the ...  Ridley Scott   \n",
      "521  A lawyer finds himself in over his head when h...  Ridley Scott   \n",
      "530  A British investment broker inherits his uncle...  Ridley Scott   \n",
      "737  A CIA agent on the ground in Jordan hunts down...  Ridley Scott   \n",
      "\n",
      "                                                actors  year  runtime  rating  \\\n",
      "1    Noomi Rapace, Logan Marshall-Green, Michael Fa...  2012      124     7.0   \n",
      "102  Matt Damon, Jessica Chastain, Kristen Wiig, Ka...  2015      144     8.0   \n",
      "387  Russell Crowe, Cate Blanchett, Matthew Macfady...  2010      140     6.7   \n",
      "470  Denzel Washington, Russell Crowe, Chiwetel Eji...  2007      157     7.8   \n",
      "516  Christian Bale, Joel Edgerton, Ben Kingsley, S...  2014      150     6.0   \n",
      "521  Michael Fassbender, Penélope Cruz, Cameron Dia...  2013      117     5.3   \n",
      "530  Russell Crowe, Abbie Cornish, Albert Finney, M...  2006      117     6.9   \n",
      "737  Leonardo DiCaprio, Russell Crowe, Mark Strong,...  2008      128     7.1   \n",
      "\n",
      "      votes  revenue_millions  metascore  \n",
      "1    485820            126.46       65.0  \n",
      "102  556097            228.43       80.0  \n",
      "387  221117            105.22       53.0  \n",
      "470  337835            130.13       76.0  \n",
      "516  137299             65.01       52.0  \n",
      "521   84927             16.97       48.0  \n",
      "530   74674              7.46       47.0  \n",
      "737  182305             39.38       57.0  \n",
      "    rank            title                     genre  \\\n",
      "1      2       Prometheus  Adventure,Mystery,Sci-Fi   \n",
      "36    37     Interstellar    Adventure,Drama,Sci-Fi   \n",
      "54    55  The Dark Knight        Action,Crime,Drama   \n",
      "64    65     The Prestige      Drama,Mystery,Sci-Fi   \n",
      "80    81        Inception   Action,Adventure,Sci-Fi   \n",
      "\n",
      "                                          description           director  \\\n",
      "1   Following clues to the origin of mankind, a te...       Ridley Scott   \n",
      "36  A team of explorers travel through a wormhole ...  Christopher Nolan   \n",
      "54  When the menace known as the Joker wreaks havo...  Christopher Nolan   \n",
      "64  Two stage magicians engage in competitive one-...  Christopher Nolan   \n",
      "80  A thief, who steals corporate secrets through ...  Christopher Nolan   \n",
      "\n",
      "                                               actors  year  runtime  rating  \\\n",
      "1   Noomi Rapace, Logan Marshall-Green, Michael Fa...  2012      124     7.0   \n",
      "36  Matthew McConaughey, Anne Hathaway, Jessica Ch...  2014      169     8.6   \n",
      "54  Christian Bale, Heath Ledger, Aaron Eckhart,Mi...  2008      152     9.0   \n",
      "64  Christian Bale, Hugh Jackman, Scarlett Johanss...  2006      130     8.5   \n",
      "80  Leonardo DiCaprio, Joseph Gordon-Levitt, Ellen...  2010      148     8.8   \n",
      "\n",
      "      votes  revenue_millions  metascore  \n",
      "1    485820            126.46       65.0  \n",
      "36  1047747            187.99       74.0  \n",
      "54  1791916            533.32       82.0  \n",
      "64   913152             53.08       66.0  \n",
      "80  1583625            292.57       74.0  \n"
     ]
    }
   ],
   "source": [
    "movie_subset = movies_df.iloc[1:4]\n",
    "print(movie_subset)\n",
    "\n",
    "condition = (movies_df['director'] == \"Ridley Scott\")\n",
    "print(\"\\nCondition:\\n\")\n",
    "print(condition.iloc[1:4])\n",
    "\n",
    "print(\"\\nOr Condition:\\n\")\n",
    "print (movies_df[movies_df['director'] == \"Ridley Scott\"])\n",
    "print(movies_df[(movies_df['director'] == 'Christopher Nolan') | (movies_df['director'] == 'Ridley Scott')].head())"
   ]
  },
  {
   "cell_type": "markdown",
   "metadata": {},
   "source": [
    "### Data Pre Processing - Membuat Function"
   ]
  },
  {
   "cell_type": "code",
   "execution_count": 22,
   "metadata": {},
   "outputs": [],
   "source": [
    "def rating_function(score):\n",
    "    if score >= 8.0:\n",
    "        return \"good\"\n",
    "    else:\n",
    "        return \"bad\""
   ]
  },
  {
   "cell_type": "code",
   "execution_count": 24,
   "metadata": {},
   "outputs": [
    {
     "name": "stdout",
     "output_type": "stream",
     "text": [
      "   rank                    title                     genre  \\\n",
      "0     1  Guardians of the Galaxy   Action,Adventure,Sci-Fi   \n",
      "1     2               Prometheus  Adventure,Mystery,Sci-Fi   \n",
      "\n",
      "                                         description      director  \\\n",
      "0  A group of intergalactic criminals are forced ...    James Gunn   \n",
      "1  Following clues to the origin of mankind, a te...  Ridley Scott   \n",
      "\n",
      "                                              actors  year  runtime  rating  \\\n",
      "0  Chris Pratt, Vin Diesel, Bradley Cooper, Zoe S...  2014      121     8.1   \n",
      "1  Noomi Rapace, Logan Marshall-Green, Michael Fa...  2012      124     7.0   \n",
      "\n",
      "    votes  revenue_millions  metascore rating_category  \n",
      "0  757074            333.13       76.0            good  \n",
      "1  485820            126.46       65.0             bad  \n",
      "<class 'pandas.core.frame.DataFrame'>\n",
      "RangeIndex: 1000 entries, 0 to 999\n",
      "Data columns (total 13 columns):\n",
      " #   Column            Non-Null Count  Dtype  \n",
      "---  ------            --------------  -----  \n",
      " 0   rank              1000 non-null   int64  \n",
      " 1   title             1000 non-null   object \n",
      " 2   genre             1000 non-null   object \n",
      " 3   description       1000 non-null   object \n",
      " 4   director          1000 non-null   object \n",
      " 5   actors            1000 non-null   object \n",
      " 6   year              1000 non-null   int64  \n",
      " 7   runtime           1000 non-null   int64  \n",
      " 8   rating            1000 non-null   float64\n",
      " 9   votes             1000 non-null   int64  \n",
      " 10  revenue_millions  1000 non-null   float64\n",
      " 11  metascore         1000 non-null   float64\n",
      " 12  rating_category   1000 non-null   object \n",
      "dtypes: float64(3), int64(4), object(6)\n",
      "memory usage: 101.7+ KB\n",
      "None\n"
     ]
    }
   ],
   "source": [
    "#movies_df['rating_category'] = movies_df['rating'].apply(rating_function) # callback rating_function with pass data rating as score and assign to new column `rating_category`\n",
    "movies_df['rating_category'] = movies_df['rating'].apply(lambda score: 'good' if score >= 8.0 else 'bad') # use lambda or anonymous function, instead defining function\n",
    "print(movies_df.head(2))\n",
    "print(movies_df.info())"
   ]
  },
  {
   "cell_type": "markdown",
   "metadata": {},
   "source": [
    "## Matplotlib - Plotting Data"
   ]
  },
  {
   "cell_type": "code",
   "execution_count": 28,
   "metadata": {},
   "outputs": [
    {
     "data": {
      "image/png": "[encoded data removed]",
      "text/plain": [
       "<Figure size 1000x800 with 1 Axes>"
      ]
     },
     "metadata": {},
     "output_type": "display_data"
    },
    {
     "data": {
      "text/plain": [
       "<Axes: title={'center': 'revenue_millions'}, xlabel='rating_category'>"
      ]
     },
     "execution_count": 28,
     "metadata": {},
     "output_type": "execute_result"
    },
    {
     "data": {
      "image/png": "[encoded data removed]",
      "text/plain": [
       "<Figure size 1000x800 with 1 Axes>"
      ]
     },
     "metadata": {},
     "output_type": "display_data"
    },
    {
     "data": {
      "image/png": "[encoded data removed]",
      "text/plain": [
       "<Figure size 1000x800 with 1 Axes>"
      ]
     },
     "metadata": {},
     "output_type": "display_data"
    },
    {
     "data": {
      "image/png": "[encoded data removed]",
      "text/plain": [
       "<Figure size 1000x800 with 1 Axes>"
      ]
     },
     "metadata": {},
     "output_type": "display_data"
    }
   ],
   "source": [
    "import matplotlib.pyplot as plt\n",
    "\n",
    "# Set font and plot size to be larger\n",
    "plt.rcParams.update({\n",
    "    'font.size': 10,\n",
    "    'figure.figsize': (10, 8)\n",
    "})\n",
    "\n",
    "movies_df.plot(\n",
    "    kind='scatter', \n",
    "    x='rating', \n",
    "    y='revenue_millions', \n",
    "    title='Revenue (millions) vs Rating'\n",
    ")\n",
    "\n",
    "plt.show()\n",
    "\n",
    "movies_df['rating'].plot(\n",
    "    kind='hist', \n",
    "    title='Rating'\n",
    ")\n",
    "\n",
    "movies_df.plot(\n",
    "    kind='scatter', \n",
    "    x='rating', \n",
    "    y='revenue_millions', \n",
    "    title='Revenue (millions) vs Rating'\n",
    ")\n",
    "\n",
    "movies_df['rating'].plot(\n",
    "    kind='hist', \n",
    "    title='Rating'\n",
    ")\n",
    "\n",
    "movies_df.boxplot(\n",
    "    column='revenue_millions', \n",
    "    by='rating_category'\n",
    ")"
   ]
  }
 ],
 "metadata": {
  "kernelspec": {
   "display_name": "base",
   "language": "python",
   "name": "python3"
  },
  "language_info": {
   "codemirror_mode": {
    "name": "ipython",
    "version": 3
   },
   "file_extension": ".py",
   "mimetype": "text/x-python",
   "name": "python",
   "nbconvert_exporter": "python",
   "pygments_lexer": "ipython3",
   "version": "3.11.5"
  }
 },
 "nbformat": 4,
 "nbformat_minor": 2
}
